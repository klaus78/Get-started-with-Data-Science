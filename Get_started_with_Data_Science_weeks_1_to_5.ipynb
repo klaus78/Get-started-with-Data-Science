{
  "nbformat": 4,
  "nbformat_minor": 0,
  "metadata": {
    "colab": {
      "name": "Get started with Data Science.ipynb",
      "provenance": [],
      "toc_visible": true,
      "authorship_tag": "ABX9TyMaybrGteS5Qtdo2IyGFkad",
      "include_colab_link": true
    },
    "kernelspec": {
      "name": "python3",
      "display_name": "Python 3"
    },
    "language_info": {
      "name": "python"
    }
  },
  "cells": [
    {
      "cell_type": "markdown",
      "metadata": {
        "id": "view-in-github",
        "colab_type": "text"
      },
      "source": [
        "<a href=\"https://colab.research.google.com/github/klaus78/Get-started-with-Data-Science/blob/main/Get_started_with_Data_Science_weeks_1_to_5.ipynb\" target=\"_parent\"><img src=\"https://colab.research.google.com/assets/colab-badge.svg\" alt=\"Open In Colab\"/></a>"
      ]
    },
    {
      "cell_type": "code",
      "execution_count": 1,
      "metadata": {
        "id": "oPbA5QEzlpmO"
      },
      "outputs": [],
      "source": [
        "import pandas as pd\n",
        "import numpy as np\n",
        "import matplotlib.pyplot as plt\n",
        "import seaborn as sns"
      ]
    },
    {
      "cell_type": "markdown",
      "source": [
        "#Week 1\n",
        "The target of this week is to be able to open a dataset and perform some basic data exploration tasks.\n",
        "\n",
        "The tasks of this week are\n",
        "1. open the Titanic dataset and print the dataset size\n",
        "2. show first rows\n",
        "3. check column types (numeric, text etc)\n",
        "4. find columns with missing values \n",
        "5. find  percentage passengers who survived"
      ],
      "metadata": {
        "id": "QZ3DMSFjmBJM"
      }
    },
    {
      "cell_type": "code",
      "source": [
        "# open Titanic dataset\n",
        "csv_url = 'https://gist.githubusercontent.com/fyyying/4aa5b471860321d7b47fd881898162b7/raw/6907bb3a38bfbb6fccf3a8b1edfb90e39714d14f/titanic_dataset.csv'\n",
        "df = pd.read_csv(csv_url)"
      ],
      "metadata": {
        "id": "A2Gm8pMWmGQp"
      },
      "execution_count": 2,
      "outputs": []
    },
    {
      "cell_type": "code",
      "source": [
        "# print dataset size as (nrows, ncols)\n",
        "print(df.shape)"
      ],
      "metadata": {
        "colab": {
          "base_uri": "https://localhost:8080/"
        },
        "id": "alpZ2RMRmHHn",
        "outputId": "8d73d3be-057c-457d-d55c-f5b4b8785802"
      },
      "execution_count": 3,
      "outputs": [
        {
          "output_type": "stream",
          "name": "stdout",
          "text": [
            "(891, 12)\n"
          ]
        }
      ]
    },
    {
      "cell_type": "code",
      "source": [
        "# show first tows\n",
        "df.head()"
      ],
      "metadata": {
        "id": "-Z0dmheKmjRR"
      },
      "execution_count": null,
      "outputs": []
    },
    {
      "cell_type": "code",
      "source": [
        "# check column types\n",
        "df.info()"
      ],
      "metadata": {
        "id": "B9JC_rtnnmUt"
      },
      "execution_count": null,
      "outputs": []
    },
    {
      "cell_type": "code",
      "source": [
        "# find columns with missing values\n",
        "df.isna().sum()"
      ],
      "metadata": {
        "id": "5leKu7oenqDb"
      },
      "execution_count": null,
      "outputs": []
    },
    {
      "cell_type": "markdown",
      "source": [
        "#Week 2\n",
        "The target of this week is to get familiar with some data transformations (handling of missing values) and filtering.\n",
        "\n",
        "The tasks of this week are\n",
        "\n",
        "1. Handle missing values. Drop the column with more than 600 missing values. Replace the `nan` values with the most common value in the other columns. \n",
        "2. Find the number of people died who were younger than `10`.\n",
        "3. Find the percentage of people died who were older than `50` and were in the first class.\n",
        "4. Find the number of people from the first class that either embarked in `S` or `C`."
      ],
      "metadata": {
        "id": "zWB0jLwJqHkl"
      }
    },
    {
      "cell_type": "code",
      "source": [
        "# 1. Handle missing values. Drop the column with more than 600 missing values\n",
        "\n",
        "# The columns with missing values are 'Cabin', 'Age' and 'Embarked'.\n",
        "\n",
        "# The column with more than 600 values missing is 'Cabin' and it can be dropped\n",
        "df.drop(labels='Cabin',axis=1, inplace=True)"
      ],
      "metadata": {
        "id": "x-xSmU-Xqyum"
      },
      "execution_count": 7,
      "outputs": []
    },
    {
      "cell_type": "code",
      "source": [
        "# Replace the nan values with the most common value in the other columns.\n",
        "\n",
        "# The remaining columns with missing values are 'Age' and 'Embarked'\n",
        "most_common_age = df.Age.mode()[0]\n",
        "most_common_embarked = df.Embarked.mode()[0]\n",
        "\n",
        "# fill na values with the most common values\n",
        "df.Age.fillna(value=most_common_age, inplace=True)\n",
        "df.Embarked.fillna(most_common_embarked, inplace=True)"
      ],
      "metadata": {
        "id": "zQo-JIwcsLFE"
      },
      "execution_count": 8,
      "outputs": []
    },
    {
      "cell_type": "code",
      "source": [
        "# 2. Find the number of people died who were younger than 10.\n",
        "df[(df.Survived == 0) & (df.Age < 10)].shape"
      ],
      "metadata": {
        "colab": {
          "base_uri": "https://localhost:8080/"
        },
        "id": "p36oqVv4s4Nn",
        "outputId": "d2856b2f-c52f-411c-8715-605c53fc5dfe"
      },
      "execution_count": 9,
      "outputs": [
        {
          "output_type": "execute_result",
          "data": {
            "text/plain": [
              "(24, 11)"
            ]
          },
          "metadata": {},
          "execution_count": 9
        }
      ]
    },
    {
      "cell_type": "code",
      "source": [
        "# 3. Find the percentage of people died who were older than 50 and were in the first class.\n",
        "num_filtered_rows = df[(df.Survived == 0) & (df.Age > 50) & df.Pclass==1].shape[0]\n",
        "num_tot_rows = df.shape[0]\n",
        "perc = (num_filtered_rows / num_tot_rows) * 100\n",
        "print(perc)"
      ],
      "metadata": {
        "colab": {
          "base_uri": "https://localhost:8080/"
        },
        "id": "SgGmQsBwwkC8",
        "outputId": "bb607508-5482-4ee7-ff5c-14b9dd0b2c79"
      },
      "execution_count": 10,
      "outputs": [
        {
          "output_type": "stream",
          "name": "stdout",
          "text": [
            "3.3670033670033668\n"
          ]
        }
      ]
    },
    {
      "cell_type": "code",
      "source": [
        "# 4. Find the number of people from the first class that either embarked in S or C.\n",
        "df[(df.Pclass == 1) & (df.Embarked.isin(['S','C'])) ].shape[0]"
      ],
      "metadata": {
        "colab": {
          "base_uri": "https://localhost:8080/"
        },
        "id": "ha6hhCJFzEJ6",
        "outputId": "5e6dfe3f-bd33-4c87-f91c-d51824c86734"
      },
      "execution_count": 11,
      "outputs": [
        {
          "output_type": "execute_result",
          "data": {
            "text/plain": [
              "214"
            ]
          },
          "metadata": {},
          "execution_count": 11
        }
      ]
    },
    {
      "cell_type": "markdown",
      "source": [
        "#Week 3\n",
        "The exercises of this week make you (1) divide numeric data into intervals, (2) work with text features (filtering by text etc) and (3) map a set of values into another set of values.\n",
        "\n",
        "The exercises of this week are\n",
        "1. Divide the `Age` column into the following bins: \n",
        "```\n",
        "(0-14) -> child\n",
        "(14-21) -> young\n",
        "(21-55) -> adult\n",
        "(55-100 ) -> old\n",
        "```\n",
        "Create a new column `Age_binned` for that.\n",
        "\n",
        "2. Find the number of occurrences of the `Miss` string in the `Name` column.\n",
        "\n",
        "3. Create a new column `Survived_text` from the `Survived` column, where `0` values are mapped to `died` and `1` values are mapped to `survived`.\n",
        "\n",
        "4. Find all the possible titles of the passengers. For example given a name like `John, Mr. Smith`,  `Mr.` is the title."
      ],
      "metadata": {
        "id": "tpTUH4SJ27Mu"
      }
    },
    {
      "cell_type": "code",
      "source": [
        "# 1. Divide the Age column into the bins \n",
        "mylabels = ['child','young','adult','old']\n",
        "mybins = [0,14,21,55,100]\n",
        "df['Age_binned'] = pd.cut(df.Age, bins = mybins, labels = mylabels)"
      ],
      "metadata": {
        "id": "iZp5md75G4Cz"
      },
      "execution_count": 12,
      "outputs": []
    },
    {
      "cell_type": "code",
      "source": [
        "# 2. Find the number of occurrences of the 'Miss' string in the 'Name' column.\n",
        "num_occurencies_miss = df.Name.str.contains('Miss').sum()"
      ],
      "metadata": {
        "id": "B0VKVIejIgdB"
      },
      "execution_count": 13,
      "outputs": []
    },
    {
      "cell_type": "code",
      "source": [
        "# 3. Create a new column 'Survived_text' from the 'Survived' column, where 0 values are mapped to 'died' and 1 values are mapped to 'survived'.\n",
        "\n",
        "# create a map dictionary\n",
        "dict_map = {0:'died',1:'survived'}\n",
        "df['Survived_text'] = df.Survived.map(dict_map)"
      ],
      "metadata": {
        "id": "jIro9VRoJCnN"
      },
      "execution_count": 14,
      "outputs": []
    },
    {
      "cell_type": "code",
      "source": [
        "# 4. Find all the possible titles of the passengers. For example given a name like 'John, Mr. Smith', 'Mr.' is the title.\n",
        "all_titles = df.Name.apply(lambda s : s.split(',')[1].split(' ')[1])\n",
        "np.unique(all_titles)"
      ],
      "metadata": {
        "id": "HJ874-TBK4vw"
      },
      "execution_count": null,
      "outputs": []
    },
    {
      "cell_type": "markdown",
      "source": [
        "#Week 4\n",
        "\n",
        "The data science exercises of this week make you get started with grouping functions and pivot tables.\n",
        "\n",
        "The exercises of this week are\n",
        "1. find the average age of passengers in first, second and third class\n",
        "2. For each class, find the number of passengers who survived and the number of passengers who died.\n",
        "3. Group by passenger class (`Pclass`) and by `Sex` to see, for each class and for each sex, the percentage of people who survived.\n",
        "4. Group by passenger class (`Pclass`) and for each class show the mean and the standard deviation of the 'Fare' feature."
      ],
      "metadata": {
        "id": "3WHZRYWhUVFR"
      }
    },
    {
      "cell_type": "code",
      "source": [
        "# 1. find the average age of passengers in first, second and third class\n",
        "pd.pivot_table(data= df, values='Age', index='Pclass')"
      ],
      "metadata": {
        "id": "xz9TEZcoUWTZ"
      },
      "execution_count": null,
      "outputs": []
    },
    {
      "cell_type": "code",
      "source": [
        "# 1. use 'pd.pivot_table'\n",
        "# 2. use 'df.groupby' + ''count()'\n",
        "# 3. use 'df.groupby' + 'value_counts(normalize=True)' \n",
        "# 4. use 'df.groupby' + 'agg'"
      ],
      "metadata": {
        "id": "tRy9dj1UkGSo"
      },
      "execution_count": null,
      "outputs": []
    },
    {
      "cell_type": "code",
      "source": [
        "# 2. For each class, find the number of passengers who survived and the number of passengers who died.\n",
        "df.groupby('Pclass')['Survived'].value_counts()"
      ],
      "metadata": {
        "id": "AJuRj1W6kgE5"
      },
      "execution_count": null,
      "outputs": []
    },
    {
      "cell_type": "code",
      "source": [
        "# 3. Group by passenger class (Pclass) and by Sex to see, for each class and for each sex, the percentage of people who survived.\n",
        "df.groupby(by=['Pclass','Sex'])['Survived'].value_counts(normalize=True)"
      ],
      "metadata": {
        "id": "x3vsJ3Zak-KY"
      },
      "execution_count": null,
      "outputs": []
    },
    {
      "cell_type": "code",
      "source": [
        "# 4. Group by passenger class (Pclass) and for each class show the mean and the standard deviation of the 'Fare' feature.\n",
        "df.groupby('Pclass')['Fare'].agg(['mean', 'std'])"
      ],
      "metadata": {
        "colab": {
          "base_uri": "https://localhost:8080/",
          "height": 175
        },
        "id": "M97Z0FNfmObA",
        "outputId": "9fd27b65-d59e-4aa9-e5ae-30a79627fa93"
      },
      "execution_count": 33,
      "outputs": [
        {
          "output_type": "execute_result",
          "data": {
            "text/plain": [
              "             mean        std\n",
              "Pclass                      \n",
              "1       84.154687  78.380373\n",
              "2       20.662183  13.417399\n",
              "3       13.675550  11.778142"
            ],
            "text/html": [
              "\n",
              "  <div id=\"df-941f7982-4633-4d22-be4e-62da6a635274\">\n",
              "    <div class=\"colab-df-container\">\n",
              "      <div>\n",
              "<style scoped>\n",
              "    .dataframe tbody tr th:only-of-type {\n",
              "        vertical-align: middle;\n",
              "    }\n",
              "\n",
              "    .dataframe tbody tr th {\n",
              "        vertical-align: top;\n",
              "    }\n",
              "\n",
              "    .dataframe thead th {\n",
              "        text-align: right;\n",
              "    }\n",
              "</style>\n",
              "<table border=\"1\" class=\"dataframe\">\n",
              "  <thead>\n",
              "    <tr style=\"text-align: right;\">\n",
              "      <th></th>\n",
              "      <th>mean</th>\n",
              "      <th>std</th>\n",
              "    </tr>\n",
              "    <tr>\n",
              "      <th>Pclass</th>\n",
              "      <th></th>\n",
              "      <th></th>\n",
              "    </tr>\n",
              "  </thead>\n",
              "  <tbody>\n",
              "    <tr>\n",
              "      <th>1</th>\n",
              "      <td>84.154687</td>\n",
              "      <td>78.380373</td>\n",
              "    </tr>\n",
              "    <tr>\n",
              "      <th>2</th>\n",
              "      <td>20.662183</td>\n",
              "      <td>13.417399</td>\n",
              "    </tr>\n",
              "    <tr>\n",
              "      <th>3</th>\n",
              "      <td>13.675550</td>\n",
              "      <td>11.778142</td>\n",
              "    </tr>\n",
              "  </tbody>\n",
              "</table>\n",
              "</div>\n",
              "      <button class=\"colab-df-convert\" onclick=\"convertToInteractive('df-941f7982-4633-4d22-be4e-62da6a635274')\"\n",
              "              title=\"Convert this dataframe to an interactive table.\"\n",
              "              style=\"display:none;\">\n",
              "        \n",
              "  <svg xmlns=\"http://www.w3.org/2000/svg\" height=\"24px\"viewBox=\"0 0 24 24\"\n",
              "       width=\"24px\">\n",
              "    <path d=\"M0 0h24v24H0V0z\" fill=\"none\"/>\n",
              "    <path d=\"M18.56 5.44l.94 2.06.94-2.06 2.06-.94-2.06-.94-.94-2.06-.94 2.06-2.06.94zm-11 1L8.5 8.5l.94-2.06 2.06-.94-2.06-.94L8.5 2.5l-.94 2.06-2.06.94zm10 10l.94 2.06.94-2.06 2.06-.94-2.06-.94-.94-2.06-.94 2.06-2.06.94z\"/><path d=\"M17.41 7.96l-1.37-1.37c-.4-.4-.92-.59-1.43-.59-.52 0-1.04.2-1.43.59L10.3 9.45l-7.72 7.72c-.78.78-.78 2.05 0 2.83L4 21.41c.39.39.9.59 1.41.59.51 0 1.02-.2 1.41-.59l7.78-7.78 2.81-2.81c.8-.78.8-2.07 0-2.86zM5.41 20L4 18.59l7.72-7.72 1.47 1.35L5.41 20z\"/>\n",
              "  </svg>\n",
              "      </button>\n",
              "      \n",
              "  <style>\n",
              "    .colab-df-container {\n",
              "      display:flex;\n",
              "      flex-wrap:wrap;\n",
              "      gap: 12px;\n",
              "    }\n",
              "\n",
              "    .colab-df-convert {\n",
              "      background-color: #E8F0FE;\n",
              "      border: none;\n",
              "      border-radius: 50%;\n",
              "      cursor: pointer;\n",
              "      display: none;\n",
              "      fill: #1967D2;\n",
              "      height: 32px;\n",
              "      padding: 0 0 0 0;\n",
              "      width: 32px;\n",
              "    }\n",
              "\n",
              "    .colab-df-convert:hover {\n",
              "      background-color: #E2EBFA;\n",
              "      box-shadow: 0px 1px 2px rgba(60, 64, 67, 0.3), 0px 1px 3px 1px rgba(60, 64, 67, 0.15);\n",
              "      fill: #174EA6;\n",
              "    }\n",
              "\n",
              "    [theme=dark] .colab-df-convert {\n",
              "      background-color: #3B4455;\n",
              "      fill: #D2E3FC;\n",
              "    }\n",
              "\n",
              "    [theme=dark] .colab-df-convert:hover {\n",
              "      background-color: #434B5C;\n",
              "      box-shadow: 0px 1px 3px 1px rgba(0, 0, 0, 0.15);\n",
              "      filter: drop-shadow(0px 1px 2px rgba(0, 0, 0, 0.3));\n",
              "      fill: #FFFFFF;\n",
              "    }\n",
              "  </style>\n",
              "\n",
              "      <script>\n",
              "        const buttonEl =\n",
              "          document.querySelector('#df-941f7982-4633-4d22-be4e-62da6a635274 button.colab-df-convert');\n",
              "        buttonEl.style.display =\n",
              "          google.colab.kernel.accessAllowed ? 'block' : 'none';\n",
              "\n",
              "        async function convertToInteractive(key) {\n",
              "          const element = document.querySelector('#df-941f7982-4633-4d22-be4e-62da6a635274');\n",
              "          const dataTable =\n",
              "            await google.colab.kernel.invokeFunction('convertToInteractive',\n",
              "                                                     [key], {});\n",
              "          if (!dataTable) return;\n",
              "\n",
              "          const docLinkHtml = 'Like what you see? Visit the ' +\n",
              "            '<a target=\"_blank\" href=https://colab.research.google.com/notebooks/data_table.ipynb>data table notebook</a>'\n",
              "            + ' to learn more about interactive tables.';\n",
              "          element.innerHTML = '';\n",
              "          dataTable['output_type'] = 'display_data';\n",
              "          await google.colab.output.renderOutput(dataTable, element);\n",
              "          const docLink = document.createElement('div');\n",
              "          docLink.innerHTML = docLinkHtml;\n",
              "          element.appendChild(docLink);\n",
              "        }\n",
              "      </script>\n",
              "    </div>\n",
              "  </div>\n",
              "  "
            ]
          },
          "metadata": {},
          "execution_count": 33
        }
      ]
    },
    {
      "cell_type": "markdown",
      "source": [
        "#Week 5\n",
        "The data science exercises of this week make you get started with plots and charts.\n",
        "\n",
        "The exercises of this week are\n",
        "1. Plot a bar chart of the number of passengers for each boarding location.\n",
        "2. Plot a bar chart with the number of survived for each passenger class.\n",
        "3. Show the boxplot of the Age column."
      ],
      "metadata": {
        "id": "xB5K_hq-Uy5i"
      }
    },
    {
      "cell_type": "code",
      "source": [
        "# bar chart of the number of passengers for each boarding location.\n",
        "df.Embarked.value_counts().plot.bar()"
      ],
      "metadata": {
        "id": "MXTSq5wpVJWa"
      },
      "execution_count": null,
      "outputs": []
    },
    {
      "cell_type": "code",
      "source": [
        "# bar chart with the number of survived for each passenger class.\n",
        "df[df.Survived == 1].Pclass.value_counts().plot.bar()"
      ],
      "metadata": {
        "id": "1Q0f-5pCVLjr"
      },
      "execution_count": null,
      "outputs": []
    },
    {
      "cell_type": "code",
      "source": [
        "# boxplot of the Age column.\n",
        "df.Age.plot.box()"
      ],
      "metadata": {
        "id": "azCNTms1VlDy"
      },
      "execution_count": null,
      "outputs": []
    }
  ]
}